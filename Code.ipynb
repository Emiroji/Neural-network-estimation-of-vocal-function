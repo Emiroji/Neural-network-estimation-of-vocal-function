{
  "nbformat": 4,
  "nbformat_minor": 0,
  "metadata": {
    "colab": {
      "name": "Copia de Neural_Network_Estimation_of_Vocal_Function.ipynb",
      "provenance": [],
      "collapsed_sections": []
    },
    "kernelspec": {
      "name": "python3",
      "display_name": "Python 3"
    },
    "language_info": {
      "name": "python"
    }
  },
  "cells": [
    {
      "cell_type": "markdown",
      "metadata": {
        "id": "4NitmqeasdnP"
      },
      "source": [
        "# **Neural Network Estimation of Vocal Function**\n",
        "\n",
        "Phyton code used in [1] for implementing a neural network architecture providing a mapping from aerodynamic glottal features into a set of clinically-relevant measures of vocal function. Seven input features describing the glottal airflow waveform were considered: amplitude of the unsteady glottal airflow (ACFL), maximum flow declination rate (MFDR), open quotient (OQ), speed quotient (SQ), spectral tilt measured as the log-magnitude difference between the first and second harmonics ($H_1-H_2$), fundamental frequency ($\\it{f}_o$), and the sound pressure level (SPL). The output layer, in turn, involved four target vocal function measures: subglottal pressure ($P_s$), vocal fold collision pressure ($P_c$), and cricothyroid ($a_{CT}$) and thyroarytenoid ($a_{TA}$) muscle activation. The devised nonlinear mapping was trained solely with 13,000 simulated samples (DataSetModel.cvs) obtained from Monte Carlo simulations with a physiological low-order voice production model that utilizes a symmetric triangular body-cover model of the vocal folds. For more details, see [1].\n",
        "\n",
        "[1] Emiro J. Ibarra, Jesus Parra, Gabriel A. Alzamendi, Juan P. Cortés,Víctor M. Espinoza, Daryush D. Mehta, Robert E. Hillman, and Matías Zañartu, (2021) \"Estimation of subglottal pressure, vocal fold collision pressure, and intrinsic laryngeal muscle activation from neck-surface vibration using a neural network model\", submitted for publication to 'Frontiers in Physiology', 2021."
      ]
    },
    {
      "cell_type": "code",
      "metadata": {
        "id": "k_NMdbYyqrfz"
      },
      "source": [
        "import matplotlib.pyplot as plt\n",
        "import pandas as pd\n",
        "import numpy as np\n",
        "import tensorflow as tf\n",
        "from sklearn.metrics import r2_score\n",
        "from tensorflow import keras\n",
        "from tensorflow.keras import layers"
      ],
      "execution_count": 1,
      "outputs": []
    },
    {
      "cell_type": "code",
      "metadata": {
        "colab": {
          "base_uri": "https://localhost:8080/",
          "height": 417
        },
        "id": "TXAHhO8ZqviB",
        "outputId": "705249c7-2515-4f44-a058-a2515ff930ce"
      },
      "source": [
        "dataset=pd.read_csv(\"DataSetModel.csv\")\n",
        "dataset"
      ],
      "execution_count": 2,
      "outputs": [
        {
          "output_type": "execute_result",
          "data": {
            "text/html": [
              "<div>\n",
              "<style scoped>\n",
              "    .dataframe tbody tr th:only-of-type {\n",
              "        vertical-align: middle;\n",
              "    }\n",
              "\n",
              "    .dataframe tbody tr th {\n",
              "        vertical-align: top;\n",
              "    }\n",
              "\n",
              "    .dataframe thead th {\n",
              "        text-align: right;\n",
              "    }\n",
              "</style>\n",
              "<table border=\"1\" class=\"dataframe\">\n",
              "  <thead>\n",
              "    <tr style=\"text-align: right;\">\n",
              "      <th></th>\n",
              "      <th>ACFL</th>\n",
              "      <th>MFDR</th>\n",
              "      <th>OQ</th>\n",
              "      <th>SQ</th>\n",
              "      <th>f0</th>\n",
              "      <th>H1H2</th>\n",
              "      <th>spl</th>\n",
              "      <th>Ps</th>\n",
              "      <th>Pc</th>\n",
              "      <th>a_TA</th>\n",
              "      <th>a_CT</th>\n",
              "    </tr>\n",
              "  </thead>\n",
              "  <tbody>\n",
              "    <tr>\n",
              "      <th>0</th>\n",
              "      <td>0.098341</td>\n",
              "      <td>79.964624</td>\n",
              "      <td>99.005682</td>\n",
              "      <td>213.977273</td>\n",
              "      <td>125.462304</td>\n",
              "      <td>13.886827</td>\n",
              "      <td>70.340915</td>\n",
              "      <td>75.542366</td>\n",
              "      <td>318.001327</td>\n",
              "      <td>0.7</td>\n",
              "      <td>0.3</td>\n",
              "    </tr>\n",
              "    <tr>\n",
              "      <th>1</th>\n",
              "      <td>0.532460</td>\n",
              "      <td>553.076916</td>\n",
              "      <td>99.458874</td>\n",
              "      <td>254.087306</td>\n",
              "      <td>143.414634</td>\n",
              "      <td>14.530796</td>\n",
              "      <td>90.817122</td>\n",
              "      <td>1138.378746</td>\n",
              "      <td>1531.488157</td>\n",
              "      <td>0.7</td>\n",
              "      <td>0.3</td>\n",
              "    </tr>\n",
              "    <tr>\n",
              "      <th>2</th>\n",
              "      <td>0.584232</td>\n",
              "      <td>613.475093</td>\n",
              "      <td>99.451754</td>\n",
              "      <td>294.360902</td>\n",
              "      <td>144.946590</td>\n",
              "      <td>14.661253</td>\n",
              "      <td>91.994977</td>\n",
              "      <td>1253.983532</td>\n",
              "      <td>1695.828870</td>\n",
              "      <td>0.7</td>\n",
              "      <td>0.3</td>\n",
              "    </tr>\n",
              "    <tr>\n",
              "      <th>3</th>\n",
              "      <td>0.492602</td>\n",
              "      <td>453.429468</td>\n",
              "      <td>96.143251</td>\n",
              "      <td>180.312903</td>\n",
              "      <td>121.571330</td>\n",
              "      <td>14.712990</td>\n",
              "      <td>88.332086</td>\n",
              "      <td>986.219308</td>\n",
              "      <td>1064.183805</td>\n",
              "      <td>0.8</td>\n",
              "      <td>0.3</td>\n",
              "    </tr>\n",
              "    <tr>\n",
              "      <th>4</th>\n",
              "      <td>0.544633</td>\n",
              "      <td>509.024995</td>\n",
              "      <td>96.508380</td>\n",
              "      <td>185.540070</td>\n",
              "      <td>123.184358</td>\n",
              "      <td>14.804854</td>\n",
              "      <td>89.915021</td>\n",
              "      <td>1096.011928</td>\n",
              "      <td>1163.309549</td>\n",
              "      <td>0.8</td>\n",
              "      <td>0.3</td>\n",
              "    </tr>\n",
              "    <tr>\n",
              "      <th>...</th>\n",
              "      <td>...</td>\n",
              "      <td>...</td>\n",
              "      <td>...</td>\n",
              "      <td>...</td>\n",
              "      <td>...</td>\n",
              "      <td>...</td>\n",
              "      <td>...</td>\n",
              "      <td>...</td>\n",
              "      <td>...</td>\n",
              "      <td>...</td>\n",
              "      <td>...</td>\n",
              "    </tr>\n",
              "    <tr>\n",
              "      <th>13610</th>\n",
              "      <td>0.033742</td>\n",
              "      <td>43.595239</td>\n",
              "      <td>99.635036</td>\n",
              "      <td>162.520158</td>\n",
              "      <td>323.076923</td>\n",
              "      <td>16.088810</td>\n",
              "      <td>68.011982</td>\n",
              "      <td>471.404923</td>\n",
              "      <td>959.515012</td>\n",
              "      <td>0.2</td>\n",
              "      <td>0.6</td>\n",
              "    </tr>\n",
              "    <tr>\n",
              "      <th>13611</th>\n",
              "      <td>0.033972</td>\n",
              "      <td>46.316754</td>\n",
              "      <td>99.278846</td>\n",
              "      <td>161.002093</td>\n",
              "      <td>344.531250</td>\n",
              "      <td>16.300124</td>\n",
              "      <td>67.948654</td>\n",
              "      <td>520.208479</td>\n",
              "      <td>1035.804366</td>\n",
              "      <td>0.2</td>\n",
              "      <td>0.7</td>\n",
              "    </tr>\n",
              "    <tr>\n",
              "      <th>13612</th>\n",
              "      <td>0.037471</td>\n",
              "      <td>54.309818</td>\n",
              "      <td>99.586777</td>\n",
              "      <td>162.834530</td>\n",
              "      <td>365.975104</td>\n",
              "      <td>15.918415</td>\n",
              "      <td>69.685682</td>\n",
              "      <td>615.130723</td>\n",
              "      <td>1159.106655</td>\n",
              "      <td>0.2</td>\n",
              "      <td>0.8</td>\n",
              "    </tr>\n",
              "    <tr>\n",
              "      <th>13613</th>\n",
              "      <td>0.032378</td>\n",
              "      <td>46.287677</td>\n",
              "      <td>98.996458</td>\n",
              "      <td>152.607154</td>\n",
              "      <td>365.217391</td>\n",
              "      <td>16.496537</td>\n",
              "      <td>68.133470</td>\n",
              "      <td>519.983103</td>\n",
              "      <td>1066.342100</td>\n",
              "      <td>0.2</td>\n",
              "      <td>0.8</td>\n",
              "    </tr>\n",
              "    <tr>\n",
              "      <th>13614</th>\n",
              "      <td>0.035762</td>\n",
              "      <td>54.120153</td>\n",
              "      <td>99.130435</td>\n",
              "      <td>159.937593</td>\n",
              "      <td>385.152838</td>\n",
              "      <td>16.440556</td>\n",
              "      <td>70.526381</td>\n",
              "      <td>614.807307</td>\n",
              "      <td>1189.322542</td>\n",
              "      <td>0.2</td>\n",
              "      <td>0.9</td>\n",
              "    </tr>\n",
              "  </tbody>\n",
              "</table>\n",
              "<p>13615 rows × 11 columns</p>\n",
              "</div>"
            ],
            "text/plain": [
              "           ACFL        MFDR         OQ  ...           Pc  a_TA  a_CT\n",
              "0      0.098341   79.964624  99.005682  ...   318.001327   0.7   0.3\n",
              "1      0.532460  553.076916  99.458874  ...  1531.488157   0.7   0.3\n",
              "2      0.584232  613.475093  99.451754  ...  1695.828870   0.7   0.3\n",
              "3      0.492602  453.429468  96.143251  ...  1064.183805   0.8   0.3\n",
              "4      0.544633  509.024995  96.508380  ...  1163.309549   0.8   0.3\n",
              "...         ...         ...        ...  ...          ...   ...   ...\n",
              "13610  0.033742   43.595239  99.635036  ...   959.515012   0.2   0.6\n",
              "13611  0.033972   46.316754  99.278846  ...  1035.804366   0.2   0.7\n",
              "13612  0.037471   54.309818  99.586777  ...  1159.106655   0.2   0.8\n",
              "13613  0.032378   46.287677  98.996458  ...  1066.342100   0.2   0.8\n",
              "13614  0.035762   54.120153  99.130435  ...  1189.322542   0.2   0.9\n",
              "\n",
              "[13615 rows x 11 columns]"
            ]
          },
          "metadata": {
            "tags": []
          },
          "execution_count": 2
        }
      ]
    },
    {
      "cell_type": "code",
      "metadata": {
        "id": "4d8jYb_rrdXb"
      },
      "source": [
        "#Min-max normalization function\n",
        "def norm(x):\n",
        "  return (x - train_stats['min']) / (train_stats['max']- train_stats['min'] )\n",
        "\n",
        "def norm_labels(x):\n",
        "  return (x - labels_train_stats['min']) / (labels_train_stats['max']- labels_train_stats['min'] )\n"
      ],
      "execution_count": 3,
      "outputs": []
    },
    {
      "cell_type": "code",
      "metadata": {
        "id": "AdLNglmZrg-a"
      },
      "source": [
        "#Build model\n",
        "\n",
        "Neurons=124 \n",
        "\n",
        "def build_model():\n",
        "  model = keras.Sequential([\n",
        "    layers.Dense(Neurons, activation='relu', input_shape=[len(train_dataset.keys())]),\n",
        "    layers.Dropout(0.1),\n",
        "    layers.Dense(Neurons, activation='relu'),\n",
        "    layers.Dropout(0.1),\n",
        "    layers.Dense(4)\n",
        "  ])\n",
        "\n",
        "  optimizer = tf.keras.optimizers.Adam(0.001)\n",
        "\n",
        "  model.compile(loss='mse',\n",
        "                optimizer=optimizer,\n",
        "                metrics=['mae', 'mse'])\n",
        "  return model"
      ],
      "execution_count": 4,
      "outputs": []
    },
    {
      "cell_type": "code",
      "metadata": {
        "id": "lukatTqVrm0L"
      },
      "source": [
        "# Display training progress by printing a single dot for each completed epoch\n",
        "class PrintDot(keras.callbacks.Callback):\n",
        "  def on_epoch_end(self, epoch, logs):\n",
        "    if epoch % 100 == 0: print('')\n",
        "    print('.', end='')\n",
        "\n",
        "EPOCHS = 100"
      ],
      "execution_count": 5,
      "outputs": []
    },
    {
      "cell_type": "code",
      "metadata": {
        "id": "qkwJoQnDrr5x"
      },
      "source": [
        "# Data partition\n",
        "\n",
        "train_dataset = dataset.sample(frac=0.8,random_state=0)\n",
        "test_dataset = dataset.drop(train_dataset.index)\n",
        "\n",
        "train_stats = train_dataset.describe()\n",
        "labels_train_stats =pd.DataFrame([train_stats.pop(x) for x in [\"Ps\", \"Pc\",\"a_TA\", \"a_CT\"]])\n",
        "train_stats = train_stats.transpose()\n",
        "\n",
        "train_labels = pd.DataFrame([train_dataset.pop(x) for x in [\"Ps\", \"Pc\",\"a_TA\", \"a_CT\"]]).T\n",
        "test_labels = pd.DataFrame([test_dataset.pop(x) for x in [\"Ps\", \"Pc\",\"a_TA\", \"a_CT\"]]).T\n",
        "\n",
        "normed_train_data = norm(train_dataset)\n",
        "normed_test_data = norm(test_dataset)\n",
        "normed_train_labels = norm_labels(train_labels)"
      ],
      "execution_count": 6,
      "outputs": []
    },
    {
      "cell_type": "code",
      "metadata": {
        "colab": {
          "base_uri": "https://localhost:8080/"
        },
        "id": "Don-xNr3r0ed",
        "outputId": "3a71abd4-ba0d-4a74-9d7e-4cf3716e0b9b"
      },
      "source": [
        "model = build_model()\n",
        "model.summary()\n",
        "history = model.fit(normed_train_data, normed_train_labels, epochs=EPOCHS, validation_split = 0.2, verbose=0, \n",
        "                        callbacks=[PrintDot()])"
      ],
      "execution_count": 7,
      "outputs": [
        {
          "output_type": "stream",
          "text": [
            "Model: \"sequential\"\n",
            "_________________________________________________________________\n",
            "Layer (type)                 Output Shape              Param #   \n",
            "=================================================================\n",
            "dense (Dense)                (None, 124)               992       \n",
            "_________________________________________________________________\n",
            "dropout (Dropout)            (None, 124)               0         \n",
            "_________________________________________________________________\n",
            "dense_1 (Dense)              (None, 124)               15500     \n",
            "_________________________________________________________________\n",
            "dropout_1 (Dropout)          (None, 124)               0         \n",
            "_________________________________________________________________\n",
            "dense_2 (Dense)              (None, 4)                 500       \n",
            "=================================================================\n",
            "Total params: 16,992\n",
            "Trainable params: 16,992\n",
            "Non-trainable params: 0\n",
            "_________________________________________________________________\n",
            "\n",
            "...................................................................................................."
          ],
          "name": "stdout"
        }
      ]
    },
    {
      "cell_type": "code",
      "metadata": {
        "colab": {
          "base_uri": "https://localhost:8080/",
          "height": 541
        },
        "id": "Wz_jfI2cr496",
        "outputId": "e03e97d1-4f36-411c-ac3b-0a2460e8614f"
      },
      "source": [
        "# Show Trained history\n",
        "\n",
        "def plot_history(history):\n",
        "  hist = pd.DataFrame(history.history)\n",
        "  hist['epoch'] = history.epoch\n",
        "\n",
        "  plt.figure()\n",
        "  plt.xlabel('Epoch')\n",
        "  plt.ylabel('Mean Abs Error [Ps]')\n",
        "  plt.plot(hist['epoch'], hist['mae'],\n",
        "           label='Train Error')\n",
        "  plt.plot(hist['epoch'], hist['val_mae'],\n",
        "           label = 'Val Error')\n",
        "  #plt.ylim([0,5])\n",
        "  plt.legend()\n",
        "\n",
        "  plt.figure()\n",
        "  plt.xlabel('Epoch')\n",
        "  plt.ylabel('Mean Square Error [$Ps^2$]')\n",
        "  plt.plot(hist['epoch'], hist['mse'],\n",
        "           label='Train Error')\n",
        "  plt.plot(hist['epoch'], hist['val_mse'],\n",
        "           label = 'Val Error')\n",
        "  #plt.ylim([0,20])\n",
        "  plt.legend()\n",
        "  plt.show()\n",
        "\n",
        "\n",
        "plot_history(history)"
      ],
      "execution_count": 8,
      "outputs": [
        {
          "output_type": "display_data",
          "data": {
            "image/png": "[encoded data removed]",
            "text/plain": [
              "<Figure size 432x288 with 1 Axes>"
            ]
          },
          "metadata": {
            "tags": [],
            "needs_background": "light"
          }
        },
        {
          "output_type": "display_data",
          "data": {
            "image/png": "[encoded data removed]",
            "text/plain": [
              "<Figure size 432x288 with 1 Axes>"
            ]
          },
          "metadata": {
            "tags": [],
            "needs_background": "light"
          }
        }
      ]
    },
    {
      "cell_type": "code",
      "metadata": {
        "colab": {
          "base_uri": "https://localhost:8080/"
        },
        "id": "8eGOlPtOr8lE",
        "outputId": "40eda5bb-dfbd-4138-f96a-49b63981a7fe"
      },
      "source": [
        "#Show Results\n",
        "\n",
        "test_predictions_1 = model.predict(normed_test_data) \n",
        "test_predictions=test_predictions_1[:,0]*(labels_train_stats['max'][0]- labels_train_stats['min'][0] ) + labels_train_stats['min'][0]\n",
        "RMSE=np.sqrt(np.mean(np.square(test_labels[\"Ps\"]-test_predictions)))/98.065\n",
        "MAE=np.mean(np.abs(test_labels[\"Ps\"]-test_predictions))/98.065\n",
        "MAPE=np.mean(np.abs((test_labels[\"Ps\"]-test_predictions)/np.max(test_labels[\"Ps\"])))*100\n",
        "ME=np.mean(test_labels[\"Ps\"]-test_predictions)\n",
        "corr=np.corrcoef(test_labels[\"Ps\"],test_predictions)[0,1]\n",
        "R2=r2_score(test_labels[\"Ps\"],test_predictions)\n",
        "    \n",
        "print(\"Testing set Ps:   MAE= {:5.2f} cmH2O, MAPE= {:5.2f} %, RMSE= {:5.2f} cmH2O, R2: {:5.2f}\" .format(MAE, MAPE, RMSE, R2))\n",
        "\n",
        "\n",
        "test_predictions=test_predictions_1[:,1]*(labels_train_stats['max'][1]- labels_train_stats['min'][1] ) + labels_train_stats['min'][1]\n",
        "#test_predictions=test_predictions_1[:,1]*(labels_train_stats['std'][1]) + labels_train_stats['mean'][1]\n",
        "RMSE=np.sqrt(np.mean(np.square(test_labels[\"Pc\"]-test_predictions)))/98.065\n",
        "MAE=np.mean(np.abs(test_labels[\"Pc\"]-test_predictions))/98.065\n",
        "MAPE=np.mean(np.abs(test_labels[\"Pc\"]-test_predictions)/np.max(test_labels[\"Pc\"]))*100\n",
        "ME=np.mean(test_labels[\"Pc\"]-test_predictions)\n",
        "corr=np.corrcoef(test_labels[\"Pc\"],test_predictions)[0,1]\n",
        "R2=r2_score(test_labels[\"Pc\"],test_predictions)\n",
        "    \n",
        "print(\"Testing set Pc:   MAE= {:5.2f} cmH2O, MAPE= {:5.2f} %, RMSE= {:5.2f} cmH2O, R2= {:5.2f}\" .format(MAE, MAPE, RMSE, R2))\n",
        "\n",
        "test_predictions=test_predictions_1[:,2]*(labels_train_stats['max'][2]- labels_train_stats['min'][2] ) + labels_train_stats['min'][2]\n",
        "#test_predictions=test_predictions_1[:,2]*(labels_train_stats['std'][2]) + labels_train_stats['mean'][2]\n",
        "RMSE=np.sqrt(np.mean(np.square(test_labels[\"a_TA\"]-test_predictions)))\n",
        "MAE=np.mean(np.abs(test_labels[\"a_TA\"]-test_predictions))\n",
        "MAPE=np.mean(np.abs(test_labels[\"a_TA\"]-test_predictions)/np.max(test_labels[\"a_TA\"]))*100\n",
        "ME=np.mean(test_labels[\"a_TA\"]-test_predictions)\n",
        "corr=np.corrcoef(test_labels[\"a_TA\"],test_predictions)[0,1]\n",
        "R2=r2_score(test_labels[\"a_TA\"],test_predictions)\n",
        "    \n",
        "print(\"Testing set a_TA: MAE= {:5.2f} Pa, MAPE= {:5.2f} %, RMSE= {:5.2f} cmH2O, R2= {:5.2f}\" .format(MAE, MAPE, RMSE, R2))\n",
        "\n",
        "test_predictions=test_predictions_1[:,3]*(labels_train_stats['max'][3]- labels_train_stats['min'][3] ) + labels_train_stats['min'][3]\n",
        "#test_predictions=test_predictions_1[:,3]*(labels_train_stats['std'][3]) + labels_train_stats['mean'][3]\n",
        "RMSE=np.sqrt(np.mean(np.square(test_labels[\"a_CT\"]-test_predictions)))\n",
        "MAE=np.mean(np.abs(test_labels[\"a_CT\"]-test_predictions))\n",
        "MAPE=np.mean(np.abs(test_labels[\"a_CT\"]-test_predictions)/np.max(test_labels[\"a_CT\"]))*100\n",
        "ME=np.mean(test_labels[\"a_CT\"]-test_predictions)\n",
        "corr=np.corrcoef(test_labels[\"a_CT\"],test_predictions)[0,1]\n",
        "R2=r2_score(test_labels[\"a_CT\"],test_predictions)\n",
        "    \n",
        "print(\"Testing set a_CT: MAE= {:5.2f} Pa, MAPE= {:5.2f} %, RMSE= {:5.2f} cmH2O, R2= {:5.2f}\" .format(MAE, MAPE, RMSE, R2))\n"
      ],
      "execution_count": 9,
      "outputs": [
        {
          "output_type": "stream",
          "text": [
            "Testing set Ps:   MAE=  0.89 cmH2O, MAPE=  5.54 %, RMSE=  1.33 cmH2O, R2:  0.89\n",
            "Testing set Pc:   MAE=  1.83 cmH2O, MAPE=  4.51 %, RMSE=  2.68 cmH2O, R2=  0.90\n",
            "Testing set a_TA: MAE=  0.15 Pa, MAPE= 15.48 %, RMSE=  0.19 cmH2O, R2=  0.46\n",
            "Testing set a_CT: MAE=  0.09 Pa, MAPE=  8.73 %, RMSE=  0.12 cmH2O, R2=  0.80\n"
          ],
          "name": "stdout"
        }
      ]
    }
  ]
}